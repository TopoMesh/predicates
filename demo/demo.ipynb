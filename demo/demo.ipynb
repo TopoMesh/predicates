{
 "cells": [
  {
   "cell_type": "markdown",
   "id": "635b6710-fb82-46b2-acc5-d1afa1eca69f",
   "metadata": {},
   "source": [
    "# Geometric predicates\n",
    "\n",
    "A colleague of mine once said, \"Computational geometry is Satanically hard.\"\n",
    "He wasn't joking.\n",
    "Let's look at why.\n",
    "\n",
    "The computational geometry equivalent of the \"Hello world\" program is to compute the convex hull of a set of points in 2D.\n",
    "The simplest 2D convex hull algorithms proceed like so:\n",
    "* Initialize the hull by picking two extreme points, say the points with the largest and smallest values of their $x$-coordinate respectively.\n",
    "* For each edge $\\{x, y\\}$ of the current hull, and for every other point $z$ not known to be on the hull,\n",
    "    + compute the *signed area* of the triangle $\\{x, y, z\\}$.\n",
    "    + if all of the signed areas are positive, we're done with this edge.\n",
    "    + if any points have negative signed area, find the point $z_*$ that gives the most negative area; remove $\\{x, y\\}$ from the hull and add the two edges $\\{x, z_*\\}$ and $\\{z_*, y\\}$.\n",
    " \n",
    "Sounds easy enough.\n",
    "Recall that the signed area of a set of points $\\{x, y, z\\}$ is the determinant of the following matrix:\n",
    "$$\\text{signed area}(x, y, z) = \\det\\left[\\begin{matrix}1 & 1 & 1 \\\\ x_1 & y_1 & z_1 \\\\ x_2 & y_2 & z_2\\end{matrix}\\right]$$\n",
    "When $x$, $y$, and $z$ are oriented counter-clockwise with respect to each other, the signed area is positive; when they are oriented clockwise, the signed area is negative, and when they are colinear, the signed area should be exactly equal to 0.\n",
    "It's also worth pointing out that the signed area, mathematically, is invariant to cyclic permutations:\n",
    "$$\\text{signed area}(x, y, z) = \\text{signed area}(y, z, x) = \\text{signed area}(z, x, y).$$\n",
    "Observe that the convex hull algorithm I wrote down above is branching on whether some signed areas are positive or negative.\n",
    "\n",
    "**The hard part is what happens when three points are nearly co-linear.**\n",
    "Using a naive approach to calculating the determinant, three positively-oriented but almost co-linear points can be incorrectly evaluated as being negatively-oriented.\n",
    "Making this mistake can then lead to convex hulls that don't contain all their extreme points, or convex hulls that aren't even convex!\n",
    "\n",
    "In the code below, I'll show some examples of how this basic geometric predicate can fail to be robust in floating-point arithmetic."
   ]
  },
  {
   "cell_type": "markdown",
   "id": "c4d10cc2-c045-4369-920d-4cba7e660ae3",
   "metadata": {},
   "source": [
    "### Demonstration\n",
    "\n",
    "First, I'm defining the determinant of a matrix in the most blunt way possible using the alternating-sum formula.\n",
    "You might imagine instead calling a library function like np.linalg.det to do this instead.\n",
    "Under the hood, numpy computes determinants by performing an LU factorization with partial pivoting, and then multiplying the diagonal elements of the U matrix.\n",
    "This is perfectly reasonable but it can actually paper over the worst numerical instabilities some of the time, so for demonstrative purposes I'm doing this by hand."
   ]
  },
  {
   "cell_type": "code",
   "execution_count": null,
   "id": "0bfc0a4a-bf5a-4d19-8838-267769c69d8b",
   "metadata": {},
   "outputs": [],
   "source": [
    "import numpy as np\n",
    "\n",
    "def determinant(A):\n",
    "    if A.shape == (2, 2):\n",
    "        return A[0, 0] * A[1, 1] - A[0, 1] * A[1, 0]\n",
    "    return sum(\n",
    "        (-1) ** i * determinant(np.delete(A, i, axis=1)[1:, :])\n",
    "        for i in range(A.shape[0])\n",
    "    )\n",
    "\n",
    "def naive_signed_area(xs):\n",
    "    return determinant(np.vstack((np.ones(3), xs)))"
   ]
  },
  {
   "cell_type": "markdown",
   "id": "c1b2af5c-311b-4a05-b452-b74014c90ea3",
   "metadata": {},
   "source": [
    "The code below will take the coordinates of the three input points and perturb one of them (specified by `index`) in a grid of size `num_steps`.\n",
    "Here we use the little-known (but very handy) function `nextafter`, which takes in a float and returns the next float."
   ]
  },
  {
   "cell_type": "code",
   "execution_count": null,
   "id": "1417b8d2-f89c-4782-a7bb-049c611b7607",
   "metadata": {},
   "outputs": [],
   "source": [
    "import math\n",
    "\n",
    "def make_image(xs, index, num_steps, fn):\n",
    "    image = np.zeros((2 * num_steps + 1, 2 * num_steps + 1))\n",
    "    \n",
    "    ys = np.copy(xs)\n",
    "    for step in range(num_steps):\n",
    "        ys[0, index] = math.nextafter(ys[0, index], -math.inf)\n",
    "        ys[1, index] = math.nextafter(ys[1, index], -math.inf)\n",
    "        \n",
    "    zs = np.copy(ys)\n",
    "    for row in range(2 * num_steps + 1):\n",
    "        zs[0, index] = ys[0, index]\n",
    "        for col in range(2 * num_steps + 1):\n",
    "            zs[0, index] = math.nextafter(zs[0, index], math.inf)\n",
    "            image[row, col] = fn(zs)\n",
    "        zs[1, index] = math.nextafter(zs[1, index], math.inf)\n",
    "\n",
    "    return image"
   ]
  },
  {
   "cell_type": "markdown",
   "id": "277bbd35-fb62-4c00-8c0f-42e9ff271ba9",
   "metadata": {},
   "source": [
    "Next, we need some points in the plane to test against.\n",
    "We'll load some from a JSON file.\n",
    "I generated these points in the first place at by making two points with random integer coordinates, defining a third point that lies along the line between the first two, generating the plots shown below, and looking one-by-one for interesting failure cases.\n",
    "Using points with small integer coordinates guarantees that they can be represented exactly as floats and that the determinants should be exactly equal to 0 somewhere."
   ]
  },
  {
   "cell_type": "code",
   "execution_count": null,
   "id": "9683b2f3-800d-44f5-bf97-1e38933e9fe0",
   "metadata": {},
   "outputs": [],
   "source": [
    "import json\n",
    "\n",
    "with open(\"points.json\", \"r\") as input_file:\n",
    "    points = np.array(json.load(input_file))"
   ]
  },
  {
   "cell_type": "markdown",
   "id": "1717745d-f3c1-49c8-9366-7bef17c3af5d",
   "metadata": {},
   "source": [
    "Next, we'll generate random samples of points in the plane to test against.\n",
    "We first make two points at random, and then take the third point to lie along the line connecting the first two.\n",
    "In order to be sure that they are really exactly colinear even in floating-point arithmetic, we use points with small integer values, which are exactly representable as floats.\n",
    "In addition to testing perturbations of the first point, we also check to see what happens when we do a cyclic permutation of the inputs."
   ]
  },
  {
   "cell_type": "code",
   "execution_count": null,
   "id": "fad009ee-93a9-46e5-93c8-3633e8d7113b",
   "metadata": {},
   "outputs": [],
   "source": [
    "fn = naive_signed_area\n",
    "\n",
    "num_steps = 32\n",
    "num_points = len(points)\n",
    "images = np.zeros((num_points, 3, 2 * num_steps + 1, 2 * num_steps + 1))\n",
    "for pindex, xs in enumerate(points):\n",
    "    for index in range(3):\n",
    "        zs = np.roll(xs, index, axis=1)\n",
    "        images[pindex, index, :, :] = make_image(zs, index, num_steps, fn)"
   ]
  },
  {
   "cell_type": "markdown",
   "id": "ce86c752-e15a-497f-8a3e-7e3b07849596",
   "metadata": {},
   "source": [
    "The plots below show the results of the naively-implemented signed area predicate when we perturb the 1st point.\n",
    "The first column shows the results with the point set as given; the next column shows the results when we cyclically permute the points once; and the final column shows the results of cyclically permuting twice.\n",
    "Despite the fact that the signed area predicate is unchanged by cyclic permutations in real arithmetic, the results are not the same in floating-point arithmetic."
   ]
  },
  {
   "cell_type": "code",
   "execution_count": null,
   "id": "c1880f56-eac5-45c9-8bcb-94442df2346d",
   "metadata": {},
   "outputs": [],
   "source": [
    "import matplotlib.pyplot as plt\n",
    "\n",
    "figsize = (6, 2 * num_points)\n",
    "fig, axes = plt.subplots(\n",
    "    nrows=num_points, ncols=3, sharex=True, sharey=True, figsize=figsize\n",
    ")\n",
    "for ax in axes.flatten():\n",
    "    ax.get_xaxis().set_visible(False)\n",
    "    ax.get_yaxis().set_visible(False)\n",
    "\n",
    "for index in range(num_points):\n",
    "    for ax, image in zip(axes[index, :], images[index, :, :, :]):\n",
    "        ax.imshow(np.sign(image), cmap=\"BrBG\", origin=\"lower\")"
   ]
  },
  {
   "cell_type": "markdown",
   "id": "5fa2b6f5-88a0-407c-ae75-45744bba987f",
   "metadata": {},
   "source": [
    "### Solution\n",
    "\n",
    "Many higher-level geometric algorithms -- convex hulls, Delaunay triangulations -- have to branch on the output of a low-level geometric predicate that is inherently unstable in floating-point arithmetic.\n",
    "How do we dig ourselves out of this hole?\n",
    "\n",
    "In the 90s, Douglas Priest, Jonathan Richard Shewchuk, and others developed an approach based on implementing higher-precision floating-point arithmetic.\n",
    "Using some very careful and painstaking analysis of the computational kernels, they were able to determine ahead of time how to detect when one is close to an edge case and what is the maximum precision necessary.\n",
    "Shewchuk's original code has found its way into tons of software packages almost unmodified.\n",
    "This approach has demonstrably been very effective, but it's hard to understand except for real experts.\n",
    "\n",
    "As an alternative, we could exactly convert all floating-point values to [bignum](https://en.wikipedia.org/wiki/Arbitrary-precision_arithmetic) rationals and do all the arithmetic exactly.\n",
    "This approach is robust but more expensive by several orders of magnitude.\n",
    "\n",
    "We can combine the two ideas by first using [interval arithmetic](https://en.wikipedia.org/wiki/Interval_arithmetic) to compute the determinant.\n",
    "If the result interval does not contain zero, then we can use the median as the signed area; the sign is sure to be correct.\n",
    "If the result interval does contain zero, we fall back to bignum rational arithmetic.\n",
    "I took this approach in writing the predicates library; Boost provides both interval and bignum rational arithmetic.\n",
    "The code below reproduces the figure above but using the determinant computation from predicates."
   ]
  },
  {
   "cell_type": "code",
   "execution_count": null,
   "id": "c2f557a3-f57d-4cc8-930b-b0c2384b0e43",
   "metadata": {},
   "outputs": [],
   "source": [
    "import predicates\n",
    "\n",
    "def exact_signed_area(xs):\n",
    "    return predicates.orientation(xs)\n",
    "\n",
    "fn = exact_signed_area\n",
    "images = np.zeros((num_points, 3, 2 * num_steps + 1, 2 * num_steps + 1))\n",
    "for pindex, xs in enumerate(points):\n",
    "    for index in range(3):\n",
    "        zs = np.roll(xs, index, axis=1)\n",
    "        images[pindex, index, :, :] = make_image(zs, index, num_steps, fn)"
   ]
  },
  {
   "cell_type": "markdown",
   "id": "9f021b10-7e78-4a29-8086-197e682c4b9b",
   "metadata": {},
   "source": [
    "You can see below that the region of zero signed area is confined to a single thin stripe and the positive, negative, and zero regions are all connected.\n",
    "Moreover, the answers are the same even under cyclic permutations."
   ]
  },
  {
   "cell_type": "code",
   "execution_count": null,
   "id": "4ea8d89d-31a3-4d7a-b68d-fc3ae5661f76",
   "metadata": {},
   "outputs": [],
   "source": [
    "figsize = (6, 2 * num_points)\n",
    "fig, axes = plt.subplots(\n",
    "    nrows=num_points, ncols=3, sharex=True, sharey=True, figsize=figsize\n",
    ")\n",
    "for ax in axes.flatten():\n",
    "    ax.get_xaxis().set_visible(False)\n",
    "    ax.get_yaxis().set_visible(False)\n",
    "\n",
    "for index in range(num_points):\n",
    "    for ax, image in zip(axes[index, :], images[index, :, :, :]):\n",
    "        ax.imshow(np.sign(image), cmap=\"BrBG\", origin=\"lower\")"
   ]
  }
 ],
 "metadata": {
  "kernelspec": {
   "display_name": "topomesh",
   "language": "python",
   "name": "topomesh"
  },
  "language_info": {
   "codemirror_mode": {
    "name": "ipython",
    "version": 3
   },
   "file_extension": ".py",
   "mimetype": "text/x-python",
   "name": "python",
   "nbconvert_exporter": "python",
   "pygments_lexer": "ipython3",
   "version": "3.11.9"
  }
 },
 "nbformat": 4,
 "nbformat_minor": 5
}
